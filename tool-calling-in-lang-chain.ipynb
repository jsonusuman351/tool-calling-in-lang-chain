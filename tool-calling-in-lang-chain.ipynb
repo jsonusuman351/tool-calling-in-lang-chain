{
 "cells": [
  {
   "cell_type": "code",
   "execution_count": 1,
   "id": "a89ed6d8-8759-494f-a1f5-1fb401194d99",
   "metadata": {},
   "outputs": [],
   "source": [
    "import os\n",
    "os.environ[\"OPENAI_API_KEY\"] =\"paste your api key\"\n"
   ]
  },
  {
   "cell_type": "code",
   "execution_count": 2,
   "id": "942b6474-1d2a-49ab-96a4-467495292a5f",
   "metadata": {},
   "outputs": [],
   "source": [
    "!pip install -q langchain-openai langchain-core requests"
   ]
  },
  {
   "cell_type": "code",
   "execution_count": 3,
   "id": "990c50cc-7860-44e0-8f1f-bcefab538414",
   "metadata": {},
   "outputs": [],
   "source": [
    "from langchain_openai import ChatOpenAI\n",
    "from langchain_core.tools import tool\n",
    "from langchain_core.messages import HumanMessage\n",
    "import requests"
   ]
  },
  {
   "cell_type": "markdown",
   "id": "e5a15b85-539a-4eaa-8322-fac047c95846",
   "metadata": {},
   "source": [
    "# tool create"
   ]
  },
  {
   "cell_type": "code",
   "execution_count": 4,
   "id": "bb950236-cad1-4b9a-9c53-8ba19b37c41d",
   "metadata": {},
   "outputs": [],
   "source": [
    "@tool\n",
    "def multiply(a:int,b:int) -> int:\n",
    "    \"\"\"Given 2 numbers a and b this tool returns their product\"\"\"\n",
    "    return a*b"
   ]
  },
  {
   "cell_type": "code",
   "execution_count": 5,
   "id": "d19b776b-a1e1-4e0d-9d05-81b9be6b4eb4",
   "metadata": {},
   "outputs": [
    {
     "name": "stdout",
     "output_type": "stream",
     "text": [
      "12\n"
     ]
    }
   ],
   "source": [
    "print(multiply.invoke({'a':3,'b':4}))"
   ]
  },
  {
   "cell_type": "code",
   "execution_count": 6,
   "id": "169941e4-24c7-40ab-b80e-194bcef9772e",
   "metadata": {},
   "outputs": [
    {
     "data": {
      "text/plain": [
       "'multiply'"
      ]
     },
     "execution_count": 6,
     "metadata": {},
     "output_type": "execute_result"
    }
   ],
   "source": [
    "multiply.name"
   ]
  },
  {
   "cell_type": "code",
   "execution_count": 7,
   "id": "b3510ebb-baac-4024-a4ef-b8cfcfd7e0cf",
   "metadata": {},
   "outputs": [
    {
     "data": {
      "text/plain": [
       "'Given 2 numbers a and b this tool returns their product'"
      ]
     },
     "execution_count": 7,
     "metadata": {},
     "output_type": "execute_result"
    }
   ],
   "source": [
    "multiply.description\n"
   ]
  },
  {
   "cell_type": "code",
   "execution_count": 8,
   "id": "b5c6de98-dd97-4178-a060-643f9c4be98f",
   "metadata": {},
   "outputs": [
    {
     "data": {
      "text/plain": [
       "{'a': {'title': 'A', 'type': 'integer'},\n",
       " 'b': {'title': 'B', 'type': 'integer'}}"
      ]
     },
     "execution_count": 8,
     "metadata": {},
     "output_type": "execute_result"
    }
   ],
   "source": [
    "multiply.args\n"
   ]
  },
  {
   "cell_type": "markdown",
   "id": "53a24f9b-757c-4bd2-a951-9f3622965312",
   "metadata": {},
   "source": [
    "# tool binding"
   ]
  },
  {
   "cell_type": "code",
   "execution_count": 9,
   "id": "bbdd8dae-64f4-4ba7-9f20-00a311c18720",
   "metadata": {},
   "outputs": [],
   "source": [
    "llm = ChatOpenAI()"
   ]
  },
  {
   "cell_type": "code",
   "execution_count": 10,
   "id": "4b1f415e-0c03-4e03-91cd-8eae57848d4b",
   "metadata": {},
   "outputs": [
    {
     "data": {
      "text/plain": [
       "'Hello! How can I help you today?'"
      ]
     },
     "execution_count": 10,
     "metadata": {},
     "output_type": "execute_result"
    }
   ],
   "source": [
    "llm.invoke('hi').content"
   ]
  },
  {
   "cell_type": "code",
   "execution_count": 11,
   "id": "5df29e69-7b08-402a-88dc-3ad6adccffcd",
   "metadata": {},
   "outputs": [],
   "source": [
    "llm_with_tools=llm.bind_tools([multiply])"
   ]
  },
  {
   "cell_type": "code",
   "execution_count": 12,
   "id": "be535364-789b-4e0c-89bf-af619cc9a8e1",
   "metadata": {},
   "outputs": [
    {
     "data": {
      "text/plain": [
       "\"Hello! I'm here and ready to assist you. How can I help you today?\""
      ]
     },
     "execution_count": 12,
     "metadata": {},
     "output_type": "execute_result"
    }
   ],
   "source": [
    "llm_with_tools.invoke('Hi how are you').content"
   ]
  },
  {
   "cell_type": "code",
   "execution_count": 13,
   "id": "99efaa26-5a8c-4709-a406-03366e6bd220",
   "metadata": {},
   "outputs": [],
   "source": [
    "query = HumanMessage('can you multiply 3 with 1000')"
   ]
  },
  {
   "cell_type": "code",
   "execution_count": 14,
   "id": "e1c47524-55ff-46ed-9f2c-b6e86e2d1a48",
   "metadata": {},
   "outputs": [],
   "source": [
    "messages = [query]"
   ]
  },
  {
   "cell_type": "code",
   "execution_count": 15,
   "id": "6c9f7ce2-77b0-43b4-9767-ff7d46bde420",
   "metadata": {},
   "outputs": [
    {
     "data": {
      "text/plain": [
       "[HumanMessage(content='can you multiply 3 with 1000', additional_kwargs={}, response_metadata={})]"
      ]
     },
     "execution_count": 15,
     "metadata": {},
     "output_type": "execute_result"
    }
   ],
   "source": [
    "messages"
   ]
  },
  {
   "cell_type": "code",
   "execution_count": 16,
   "id": "f917ed9a-59e4-428c-bce6-16b2249ea0ed",
   "metadata": {},
   "outputs": [],
   "source": [
    " result=llm_with_tools.invoke(messages)"
   ]
  },
  {
   "cell_type": "code",
   "execution_count": 17,
   "id": "7a278d30-0921-49b0-b6f7-401853f852c7",
   "metadata": {},
   "outputs": [],
   "source": [
    "messages.append(result)"
   ]
  },
  {
   "cell_type": "code",
   "execution_count": 18,
   "id": "a5f7a288-ae4f-485e-a826-d24ef74bfd09",
   "metadata": {},
   "outputs": [
    {
     "data": {
      "text/plain": [
       "[HumanMessage(content='can you multiply 3 with 1000', additional_kwargs={}, response_metadata={}),\n",
       " AIMessage(content='', additional_kwargs={'tool_calls': [{'id': 'call_kzB23sHuYIOHNvHPSNoXdUdW', 'function': {'arguments': '{\"a\":3,\"b\":1000}', 'name': 'multiply'}, 'type': 'function'}], 'refusal': None}, response_metadata={'token_usage': {'completion_tokens': 18, 'prompt_tokens': 63, 'total_tokens': 81, 'completion_tokens_details': {'accepted_prediction_tokens': 0, 'audio_tokens': 0, 'reasoning_tokens': 0, 'rejected_prediction_tokens': 0}, 'prompt_tokens_details': {'audio_tokens': 0, 'cached_tokens': 0}}, 'model_name': 'gpt-3.5-turbo-0125', 'system_fingerprint': None, 'id': 'chatcmpl-CJfa0Fs9ye8ZR3DBqcnds5K9k8kdO', 'service_tier': 'default', 'finish_reason': 'tool_calls', 'logprobs': None}, id='run--1521a71b-2c2f-4504-a5fe-e7b427c10814-0', tool_calls=[{'name': 'multiply', 'args': {'a': 3, 'b': 1000}, 'id': 'call_kzB23sHuYIOHNvHPSNoXdUdW', 'type': 'tool_call'}], usage_metadata={'input_tokens': 63, 'output_tokens': 18, 'total_tokens': 81, 'input_token_details': {'audio': 0, 'cache_read': 0}, 'output_token_details': {'audio': 0, 'reasoning': 0}})]"
      ]
     },
     "execution_count": 18,
     "metadata": {},
     "output_type": "execute_result"
    }
   ],
   "source": [
    "messages"
   ]
  },
  {
   "cell_type": "code",
   "execution_count": 19,
   "id": "947f32bf-f1cc-4084-8d8d-ffdda15b4bd2",
   "metadata": {},
   "outputs": [],
   "source": [
    "tool_result=multiply.invoke(result.tool_calls[0])"
   ]
  },
  {
   "cell_type": "code",
   "execution_count": 20,
   "id": "23a5e0c6-0f34-4f51-a7ac-13523666ae79",
   "metadata": {},
   "outputs": [
    {
     "data": {
      "text/plain": [
       "ToolMessage(content='3000', name='multiply', tool_call_id='call_kzB23sHuYIOHNvHPSNoXdUdW')"
      ]
     },
     "execution_count": 20,
     "metadata": {},
     "output_type": "execute_result"
    }
   ],
   "source": [
    "tool_result"
   ]
  },
  {
   "cell_type": "code",
   "execution_count": 21,
   "id": "0f4884bc-de77-4571-b79f-b3cdc8049445",
   "metadata": {},
   "outputs": [],
   "source": [
    "messages.append(tool_result)"
   ]
  },
  {
   "cell_type": "code",
   "execution_count": 22,
   "id": "24ec3124-9950-4493-954d-a7a4a00feca9",
   "metadata": {},
   "outputs": [
    {
     "data": {
      "text/plain": [
       "[HumanMessage(content='can you multiply 3 with 1000', additional_kwargs={}, response_metadata={}),\n",
       " AIMessage(content='', additional_kwargs={'tool_calls': [{'id': 'call_kzB23sHuYIOHNvHPSNoXdUdW', 'function': {'arguments': '{\"a\":3,\"b\":1000}', 'name': 'multiply'}, 'type': 'function'}], 'refusal': None}, response_metadata={'token_usage': {'completion_tokens': 18, 'prompt_tokens': 63, 'total_tokens': 81, 'completion_tokens_details': {'accepted_prediction_tokens': 0, 'audio_tokens': 0, 'reasoning_tokens': 0, 'rejected_prediction_tokens': 0}, 'prompt_tokens_details': {'audio_tokens': 0, 'cached_tokens': 0}}, 'model_name': 'gpt-3.5-turbo-0125', 'system_fingerprint': None, 'id': 'chatcmpl-CJfa0Fs9ye8ZR3DBqcnds5K9k8kdO', 'service_tier': 'default', 'finish_reason': 'tool_calls', 'logprobs': None}, id='run--1521a71b-2c2f-4504-a5fe-e7b427c10814-0', tool_calls=[{'name': 'multiply', 'args': {'a': 3, 'b': 1000}, 'id': 'call_kzB23sHuYIOHNvHPSNoXdUdW', 'type': 'tool_call'}], usage_metadata={'input_tokens': 63, 'output_tokens': 18, 'total_tokens': 81, 'input_token_details': {'audio': 0, 'cache_read': 0}, 'output_token_details': {'audio': 0, 'reasoning': 0}}),\n",
       " ToolMessage(content='3000', name='multiply', tool_call_id='call_kzB23sHuYIOHNvHPSNoXdUdW')]"
      ]
     },
     "execution_count": 22,
     "metadata": {},
     "output_type": "execute_result"
    }
   ],
   "source": [
    "messages"
   ]
  },
  {
   "cell_type": "code",
   "execution_count": 23,
   "id": "560908e4-9348-4819-b11e-895b6162f29d",
   "metadata": {},
   "outputs": [
    {
     "data": {
      "text/plain": [
       "'The product of multiplying 3 with 1000 is 3000.'"
      ]
     },
     "execution_count": 23,
     "metadata": {},
     "output_type": "execute_result"
    }
   ],
   "source": [
    "llm_with_tools.invoke(messages).content"
   ]
  },
  {
   "cell_type": "markdown",
   "id": "6e5b4da5-5f29-4b1d-b7e2-7e1cc3f729ad",
   "metadata": {},
   "source": [
    "# currency conversion tools"
   ]
  },
  {
   "cell_type": "markdown",
   "id": "79ebcbe1-9083-402a-9460-b7efa87bb8e0",
   "metadata": {},
   "source": [
    "## tool create"
   ]
  },
  {
   "cell_type": "code",
   "execution_count": 24,
   "id": "51125a40-fe4e-486d-b016-78ef6beb69c3",
   "metadata": {},
   "outputs": [],
   "source": [
    "from langchain_core.tools import InjectedToolArg\n",
    "from typing import Annotated"
   ]
  },
  {
   "cell_type": "code",
   "execution_count": 25,
   "id": "3a6787cb-4ef9-44fb-99a8-c1bd9b50f3bb",
   "metadata": {},
   "outputs": [],
   "source": [
    "@tool\n",
    "def get_conversion_factor(base_currency:str, target_currency:str) ->float:\n",
    "    \"\"\" This function fetches the currency conversion factor between a given base currency and a target currency \"\"\"\n",
    "    url = f'https://v6.exchangerate-api.com/v6/c754eab14ffab33112e380ca/pair/{base_currency}/{target_currency}'\n",
    "    response = requests.get(url)\n",
    "    return response.json()\n",
    "@tool\n",
    "def convert(base_currency_value: int, conversion_rate:Annotated[float, InjectedToolArg]) -> float:\n",
    "  \"\"\"\n",
    "  given a currency conversion rate this function calculates the target currency value from a given base currency value\n",
    "  \"\"\"\n",
    "\n",
    "  return base_currency_value * conversion_rate\n",
    "    \n",
    "  \n",
    "     \n",
    "\n",
    "\n",
    "   \n",
    "\n",
    " "
   ]
  },
  {
   "cell_type": "code",
   "execution_count": 26,
   "id": "21ddc938-e64b-47d0-92b9-51ae3cd1936b",
   "metadata": {},
   "outputs": [
    {
     "data": {
      "text/plain": [
       "{'base_currency_value': {'title': 'Base Currency Value', 'type': 'integer'},\n",
       " 'conversion_rate': {'title': 'Conversion Rate', 'type': 'number'}}"
      ]
     },
     "execution_count": 26,
     "metadata": {},
     "output_type": "execute_result"
    }
   ],
   "source": [
    "   convert.args"
   ]
  },
  {
   "cell_type": "code",
   "execution_count": 27,
   "id": "21b9809d-a2ad-40ca-b333-e97374d87659",
   "metadata": {},
   "outputs": [
    {
     "data": {
      "text/plain": [
       "{'result': 'success',\n",
       " 'documentation': 'https://www.exchangerate-api.com/docs',\n",
       " 'terms_of_use': 'https://www.exchangerate-api.com/terms',\n",
       " 'time_last_update_unix': 1758758401,\n",
       " 'time_last_update_utc': 'Thu, 25 Sep 2025 00:00:01 +0000',\n",
       " 'time_next_update_unix': 1758844801,\n",
       " 'time_next_update_utc': 'Fri, 26 Sep 2025 00:00:01 +0000',\n",
       " 'base_code': 'USD',\n",
       " 'target_code': 'INR',\n",
       " 'conversion_rate': 88.789}"
      ]
     },
     "execution_count": 27,
     "metadata": {},
     "output_type": "execute_result"
    }
   ],
   "source": [
    "get_conversion_factor.invoke({'base_currency':'USD','target_currency':'INR'})"
   ]
  },
  {
   "cell_type": "code",
   "execution_count": 28,
   "id": "39265767-1e47-42d4-a48c-7dc0a8484091",
   "metadata": {},
   "outputs": [
    {
     "data": {
      "text/plain": [
       "887.89"
      ]
     },
     "execution_count": 28,
     "metadata": {},
     "output_type": "execute_result"
    }
   ],
   "source": [
    "convert.invoke({'base_currency_value':10, 'conversion_rate':88.789})"
   ]
  },
  {
   "cell_type": "markdown",
   "id": "8166777f-5716-4c39-bffb-73543f7e1319",
   "metadata": {},
   "source": [
    "# tool binding"
   ]
  },
  {
   "cell_type": "code",
   "execution_count": 29,
   "id": "02a153dc-0669-4f6a-9994-4530f2c06a32",
   "metadata": {},
   "outputs": [],
   "source": [
    "llm=ChatOpenAI()"
   ]
  },
  {
   "cell_type": "code",
   "execution_count": 30,
   "id": "18c6da20-1fa7-4d5b-90ff-4f706fd9df93",
   "metadata": {},
   "outputs": [],
   "source": [
    "llm_with_tools=llm.bind_tools([get_conversion_factor,convert])"
   ]
  },
  {
   "cell_type": "code",
   "execution_count": 31,
   "id": "8c0c94b3-ab9a-44af-b4fa-7614eebc5962",
   "metadata": {},
   "outputs": [],
   "source": [
    "messages = [HumanMessage('What is the conversion factor between INR and USD, and based on that can you convert 10 inr to usd')]"
   ]
  },
  {
   "cell_type": "code",
   "execution_count": 32,
   "id": "22dcc1e9-108b-4da1-8425-30e8656a07c3",
   "metadata": {},
   "outputs": [
    {
     "data": {
      "text/plain": [
       "[HumanMessage(content='What is the conversion factor between INR and USD, and based on that can you convert 10 inr to usd', additional_kwargs={}, response_metadata={})]"
      ]
     },
     "execution_count": 32,
     "metadata": {},
     "output_type": "execute_result"
    }
   ],
   "source": [
    "messages"
   ]
  },
  {
   "cell_type": "code",
   "execution_count": 33,
   "id": "7b5c9820-0125-4d33-8854-027d8491161d",
   "metadata": {},
   "outputs": [],
   "source": [
    "ai_message=llm_with_tools.invoke(messages)"
   ]
  },
  {
   "cell_type": "code",
   "execution_count": 34,
   "id": "1ca72060-ca3a-408c-98eb-fac1eb270dc4",
   "metadata": {},
   "outputs": [],
   "source": [
    "messages.append(ai_message)"
   ]
  },
  {
   "cell_type": "code",
   "execution_count": 39,
   "id": "0e9d4a00-5f54-49ab-a3dc-fa5987127be5",
   "metadata": {},
   "outputs": [
    {
     "data": {
      "text/plain": [
       "[HumanMessage(content='What is the conversion factor between INR and USD, and based on that can you convert 10 inr to usd', additional_kwargs={}, response_metadata={}),\n",
       " AIMessage(content='', additional_kwargs={'tool_calls': [{'id': 'call_iNwFNF4vomZoVW87cYau4vqQ', 'function': {'arguments': '{\"base_currency\": \"INR\", \"target_currency\": \"USD\"}', 'name': 'get_conversion_factor'}, 'type': 'function'}, {'id': 'call_YQjhjA0IXu1prsJG6rUZWwxD', 'function': {'arguments': '{\"base_currency_value\": 10}', 'name': 'convert'}, 'type': 'function'}], 'refusal': None}, response_metadata={'token_usage': {'completion_tokens': 52, 'prompt_tokens': 123, 'total_tokens': 175, 'completion_tokens_details': {'accepted_prediction_tokens': 0, 'audio_tokens': 0, 'reasoning_tokens': 0, 'rejected_prediction_tokens': 0}, 'prompt_tokens_details': {'audio_tokens': 0, 'cached_tokens': 0}}, 'model_name': 'gpt-3.5-turbo-0125', 'system_fingerprint': None, 'id': 'chatcmpl-CJfa3OgU9dg5wIcqQuDjA1aoARCYd', 'service_tier': 'default', 'finish_reason': 'tool_calls', 'logprobs': None}, id='run--9ca914f0-6471-4bd3-8d9c-fffcf8d73d58-0', tool_calls=[{'name': 'get_conversion_factor', 'args': {'base_currency': 'INR', 'target_currency': 'USD'}, 'id': 'call_iNwFNF4vomZoVW87cYau4vqQ', 'type': 'tool_call'}, {'name': 'convert', 'args': {'base_currency_value': 10, 'conversion_rate': 0.01126}, 'id': 'call_YQjhjA0IXu1prsJG6rUZWwxD', 'type': 'tool_call'}], usage_metadata={'input_tokens': 123, 'output_tokens': 52, 'total_tokens': 175, 'input_token_details': {'audio': 0, 'cache_read': 0}, 'output_token_details': {'audio': 0, 'reasoning': 0}}),\n",
       " ToolMessage(content='{\"result\": \"success\", \"documentation\": \"https://www.exchangerate-api.com/docs\", \"terms_of_use\": \"https://www.exchangerate-api.com/terms\", \"time_last_update_unix\": 1758758401, \"time_last_update_utc\": \"Thu, 25 Sep 2025 00:00:01 +0000\", \"time_next_update_unix\": 1758844801, \"time_next_update_utc\": \"Fri, 26 Sep 2025 00:00:01 +0000\", \"base_code\": \"INR\", \"target_code\": \"USD\", \"conversion_rate\": 0.01126}', name='get_conversion_factor', tool_call_id='call_iNwFNF4vomZoVW87cYau4vqQ'),\n",
       " ToolMessage(content='0.11259999999999999', name='convert', tool_call_id='call_YQjhjA0IXu1prsJG6rUZWwxD')]"
      ]
     },
     "execution_count": 39,
     "metadata": {},
     "output_type": "execute_result"
    }
   ],
   "source": [
    "messages"
   ]
  },
  {
   "cell_type": "code",
   "execution_count": 35,
   "id": "ab100784-7444-4c7c-98f1-f661c6b9647e",
   "metadata": {},
   "outputs": [
    {
     "data": {
      "text/plain": [
       "[{'name': 'get_conversion_factor',\n",
       "  'args': {'base_currency': 'INR', 'target_currency': 'USD'},\n",
       "  'id': 'call_iNwFNF4vomZoVW87cYau4vqQ',\n",
       "  'type': 'tool_call'},\n",
       " {'name': 'convert',\n",
       "  'args': {'base_currency_value': 10},\n",
       "  'id': 'call_YQjhjA0IXu1prsJG6rUZWwxD',\n",
       "  'type': 'tool_call'}]"
      ]
     },
     "execution_count": 35,
     "metadata": {},
     "output_type": "execute_result"
    }
   ],
   "source": [
    "ai_message.tool_calls"
   ]
  },
  {
   "cell_type": "code",
   "execution_count": 36,
   "id": "d40858c9-2051-4290-8512-a169d996d095",
   "metadata": {},
   "outputs": [],
   "source": [
    "import json\n",
    "\n",
    "for tool_call in ai_message.tool_calls:\n",
    "  # execute the 1st tool and get the value of conversion rate\n",
    "  if tool_call['name'] == 'get_conversion_factor':\n",
    "    tool_message1 = get_conversion_factor.invoke(tool_call)\n",
    "    # fetch this conversion rate\n",
    "    conversion_rate = json.loads(tool_message1.content)['conversion_rate']\n",
    "    # append this tool message to messages list\n",
    "    messages.append(tool_message1)\n",
    "  # execute the 2nd tool using the conversion rate from tool 1\n",
    "  if tool_call['name'] == 'convert':\n",
    "    # fetch the current arg\n",
    "    tool_call['args']['conversion_rate'] = conversion_rate\n",
    "    tool_message2 = convert.invoke(tool_call)\n",
    "    messages.append(tool_message2)\n",
    "\n"
   ]
  },
  {
   "cell_type": "code",
   "execution_count": 37,
   "id": "f964fa5a-40a5-4b82-bef4-12be0a9d2d21",
   "metadata": {},
   "outputs": [
    {
     "data": {
      "text/plain": [
       "[HumanMessage(content='What is the conversion factor between INR and USD, and based on that can you convert 10 inr to usd', additional_kwargs={}, response_metadata={}),\n",
       " AIMessage(content='', additional_kwargs={'tool_calls': [{'id': 'call_iNwFNF4vomZoVW87cYau4vqQ', 'function': {'arguments': '{\"base_currency\": \"INR\", \"target_currency\": \"USD\"}', 'name': 'get_conversion_factor'}, 'type': 'function'}, {'id': 'call_YQjhjA0IXu1prsJG6rUZWwxD', 'function': {'arguments': '{\"base_currency_value\": 10}', 'name': 'convert'}, 'type': 'function'}], 'refusal': None}, response_metadata={'token_usage': {'completion_tokens': 52, 'prompt_tokens': 123, 'total_tokens': 175, 'completion_tokens_details': {'accepted_prediction_tokens': 0, 'audio_tokens': 0, 'reasoning_tokens': 0, 'rejected_prediction_tokens': 0}, 'prompt_tokens_details': {'audio_tokens': 0, 'cached_tokens': 0}}, 'model_name': 'gpt-3.5-turbo-0125', 'system_fingerprint': None, 'id': 'chatcmpl-CJfa3OgU9dg5wIcqQuDjA1aoARCYd', 'service_tier': 'default', 'finish_reason': 'tool_calls', 'logprobs': None}, id='run--9ca914f0-6471-4bd3-8d9c-fffcf8d73d58-0', tool_calls=[{'name': 'get_conversion_factor', 'args': {'base_currency': 'INR', 'target_currency': 'USD'}, 'id': 'call_iNwFNF4vomZoVW87cYau4vqQ', 'type': 'tool_call'}, {'name': 'convert', 'args': {'base_currency_value': 10, 'conversion_rate': 0.01126}, 'id': 'call_YQjhjA0IXu1prsJG6rUZWwxD', 'type': 'tool_call'}], usage_metadata={'input_tokens': 123, 'output_tokens': 52, 'total_tokens': 175, 'input_token_details': {'audio': 0, 'cache_read': 0}, 'output_token_details': {'audio': 0, 'reasoning': 0}}),\n",
       " ToolMessage(content='{\"result\": \"success\", \"documentation\": \"https://www.exchangerate-api.com/docs\", \"terms_of_use\": \"https://www.exchangerate-api.com/terms\", \"time_last_update_unix\": 1758758401, \"time_last_update_utc\": \"Thu, 25 Sep 2025 00:00:01 +0000\", \"time_next_update_unix\": 1758844801, \"time_next_update_utc\": \"Fri, 26 Sep 2025 00:00:01 +0000\", \"base_code\": \"INR\", \"target_code\": \"USD\", \"conversion_rate\": 0.01126}', name='get_conversion_factor', tool_call_id='call_iNwFNF4vomZoVW87cYau4vqQ'),\n",
       " ToolMessage(content='0.11259999999999999', name='convert', tool_call_id='call_YQjhjA0IXu1prsJG6rUZWwxD')]"
      ]
     },
     "execution_count": 37,
     "metadata": {},
     "output_type": "execute_result"
    }
   ],
   "source": [
    "messages"
   ]
  },
  {
   "cell_type": "code",
   "execution_count": 38,
   "id": "58668a2c-ba1a-4fad-b6d1-5e8538b51617",
   "metadata": {},
   "outputs": [
    {
     "data": {
      "text/plain": [
       "'The conversion factor between INR and USD is 0.01126. \\n\\nBased on this, converting 10 INR to USD gives 0.1126 USD.'"
      ]
     },
     "execution_count": 38,
     "metadata": {},
     "output_type": "execute_result"
    }
   ],
   "source": [
    "llm_with_tools.invoke(messages).content"
   ]
  },
  {
   "cell_type": "code",
   "execution_count": null,
   "id": "28e5fc57-cd28-4d74-a2f9-8addd9fb16af",
   "metadata": {},
   "outputs": [],
   "source": []
  },
  {
   "cell_type": "code",
   "execution_count": null,
   "id": "6cb4f2f0-e463-42d9-911f-17ccc744833b",
   "metadata": {},
   "outputs": [],
   "source": []
  }
 ],
 "metadata": {
  "kernelspec": {
   "display_name": "Python [conda env:myenv]",
   "language": "python",
   "name": "conda-env-myenv-py"
  },
  "language_info": {
   "codemirror_mode": {
    "name": "ipython",
    "version": 3
   },
   "file_extension": ".py",
   "mimetype": "text/x-python",
   "name": "python",
   "nbconvert_exporter": "python",
   "pygments_lexer": "ipython3",
   "version": "3.10.18"
  }
 },
 "nbformat": 4,
 "nbformat_minor": 5
}
